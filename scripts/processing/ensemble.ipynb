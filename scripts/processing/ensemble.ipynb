{
 "cells": [
  {
   "cell_type": "code",
   "execution_count": 1,
   "metadata": {},
   "outputs": [],
   "source": [
    "from sklearn.feature_extraction.text import CountVectorizer\n",
    "from sklearn.metrics import roc_auc_score,confusion_matrix,precision_score,recall_score,accuracy_score\n",
    "import pandas as pd\n",
    "import numpy as np\n",
    "from nltk.stem import WordNetLemmatizer\n",
    "import joblib"
   ]
  },
  {
   "cell_type": "code",
   "execution_count": 2,
   "metadata": {},
   "outputs": [],
   "source": [
    "df = pd.read_csv('../../datasets/phishing_emails_kaggle/Phishing_Email.csv')\n",
    "df.drop(columns=['Unnamed: 0'],inplace=True)\n",
    "df = df.dropna()"
   ]
  },
  {
   "cell_type": "code",
   "execution_count": 3,
   "metadata": {},
   "outputs": [],
   "source": [
    "df.columns = [\"Content\",\"Category\"]\n",
    "df[\"Category\"] = df.Category.map({'Safe Email':0,'Phishing Email':1})"
   ]
  },
  {
   "cell_type": "code",
   "execution_count": 4,
   "metadata": {},
   "outputs": [],
   "source": [
    "dataset = df.values\n",
    "np.random.shuffle(dataset)"
   ]
  },
  {
   "cell_type": "code",
   "execution_count": 5,
   "metadata": {},
   "outputs": [],
   "source": [
    "X = dataset[:,0]\n",
    "Y = dataset[:,1]\n",
    "Y= Y.astype('int32')"
   ]
  },
  {
   "cell_type": "code",
   "execution_count": 6,
   "metadata": {},
   "outputs": [],
   "source": [
    "import sys\n",
    "sys.path.append('../')\n",
    "from processing.fix_contents import separate_email, remove_css\n",
    "\n",
    "lemmatizer = WordNetLemmatizer()\n",
    "for i in range(X.shape[0]):\n",
    "    content = separate_email(X[i])[0]\n",
    "    content = remove_css(content)\n",
    "    X[i] = (\" \").join([lemmatizer.lemmatize(word.lower(), pos='v') for word in content.split(\" \")])"
   ]
  },
  {
   "cell_type": "code",
   "execution_count": 7,
   "metadata": {},
   "outputs": [],
   "source": [
    "vectorizer = CountVectorizer()\n",
    "X_transformed = vectorizer.fit_transform(X)"
   ]
  },
  {
   "cell_type": "code",
   "execution_count": 8,
   "metadata": {},
   "outputs": [],
   "source": [
    "def print_metrics(Y_true, Y_predicted):\n",
    "    print(\"Accuracy Score :\" + str(accuracy_score(Y_true,Y_predicted)))\n",
    "    print(\"Precision Score :\" + str(precision_score(Y_true,Y_predicted)))\n",
    "    print(\"Recall Score :\" + str(recall_score(Y_true,Y_predicted)))\n",
    "    print(\"ROC AUC Score :\" + str(roc_auc_score(Y_true,Y_predicted)))\n",
    "    print(\"Confusion Matrix : \\n\")\n",
    "    print(confusion_matrix(Y_true,Y_predicted))"
   ]
  },
  {
   "cell_type": "code",
   "execution_count": 19,
   "metadata": {},
   "outputs": [],
   "source": [
    "svm_model = joblib.load('../../trained_models/SVM_PhishTrain.joblib')\n",
    "naiveBayes_model = joblib.load('../../trained_models/NB_PhishTrain.joblib')\n",
    "logReg_model = joblib.load('../../trained_models/logReg_PhishTrain.joblib')"
   ]
  },
  {
   "cell_type": "code",
   "execution_count": 20,
   "metadata": {},
   "outputs": [],
   "source": [
    "predicted_y = (svm_model.predict(X_transformed)+naiveBayes_model.predict(X_transformed)+logReg_model.predict(X_transformed)) // 3"
   ]
  },
  {
   "cell_type": "code",
   "execution_count": 21,
   "metadata": {},
   "outputs": [
    {
     "name": "stdout",
     "output_type": "stream",
     "text": [
      "Accuracy Score :0.9751529462273264\n",
      "Precision Score :0.9713695801789402\n",
      "Recall Score :0.9651258205689278\n",
      "ROC AUC Score :0.9733772540399843\n",
      "Confusion Matrix : \n",
      "\n",
      "[[11114   208]\n",
      " [  255  7057]]\n"
     ]
    }
   ],
   "source": [
    "print_metrics(Y, predicted_y)"
   ]
  }
 ],
 "metadata": {
  "kernelspec": {
   "display_name": ".venv",
   "language": "python",
   "name": "python3"
  },
  "language_info": {
   "codemirror_mode": {
    "name": "ipython",
    "version": 3
   },
   "file_extension": ".py",
   "mimetype": "text/x-python",
   "name": "python",
   "nbconvert_exporter": "python",
   "pygments_lexer": "ipython3",
   "version": "3.11.2"
  }
 },
 "nbformat": 4,
 "nbformat_minor": 2
}
